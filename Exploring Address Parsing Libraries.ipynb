{
 "cells": [
  {
   "cell_type": "markdown",
   "metadata": {},
   "source": [
    "# Exploring Address Parsing APIs"
   ]
  },
  {
   "cell_type": "markdown",
   "metadata": {},
   "source": [
    "## 0. Setup\n",
    "\n",
    "The following parsing APIs were considered:\n",
    "* scourgify\n",
    "* usaddress\n",
    "* usps-api\n",
    "* postal_address (poor documentation)\n",
    "* address (out of date- api uses prints intended for Python 2)\n",
    "\n",
    "After looking at docs and testing the implementation of each library, I narrowed down the list to two:\n",
    "* scourgify\n",
    "* usaddress\n",
    "* usps-api"
   ]
  },
  {
   "cell_type": "markdown",
   "metadata": {},
   "source": [
    "### Imports"
   ]
  },
  {
   "cell_type": "code",
   "execution_count": 1,
   "metadata": {},
   "outputs": [],
   "source": [
    "import usaddress # usaddress\n",
    "import scourgify # usaddress-scourgify\n",
    "from usps import USPSApi, Address # usps-api\n",
    "\n",
    "import urllib.request, json \n",
    "import sys"
   ]
  },
  {
   "cell_type": "markdown",
   "metadata": {},
   "source": [
    "### Set Address"
   ]
  },
  {
   "cell_type": "code",
   "execution_count": 2,
   "metadata": {},
   "outputs": [],
   "source": [
    "address = '5137 Pond Crest Trail, Fairview, TX 75069'"
   ]
  },
  {
   "cell_type": "markdown",
   "metadata": {},
   "source": [
    "## 1. Scourgify\n",
    "\n",
    "Follows RESO guidelines and USPS pub 28. \n",
    "\n",
    "#### Notes:\n",
    "* Scourgify does not attempt to validate an address"
   ]
  },
  {
   "cell_type": "code",
   "execution_count": 3,
   "metadata": {},
   "outputs": [
    {
     "name": "stdout",
     "output_type": "stream",
     "text": [
      "scourgify result: \n",
      "\n"
     ]
    },
    {
     "data": {
      "text/plain": [
       "{'address_line_1': '5137 POND CREST TRL',\n",
       " 'address_line_2': None,\n",
       " 'city': 'FAIRVIEW',\n",
       " 'state': 'TX',\n",
       " 'postal_code': '75069'}"
      ]
     },
     "execution_count": 3,
     "metadata": {},
     "output_type": "execute_result"
    }
   ],
   "source": [
    "# Returns a dictionary of \"normalized\" address data, but does not validate\n",
    "scourgify_result = scourgify.normalize_address_record(address)\n",
    "\n",
    "print(\"scourgify result: \\n\")\n",
    "scourgify_result"
   ]
  },
  {
   "cell_type": "markdown",
   "metadata": {},
   "source": [
    "## 2. USAddress\n",
    "\n",
    "usaddress is a Python library for parsing unstructured address strings into address components, using advanced NLP methods.\n",
    "\n",
    "#### Notes: \n",
    "* Probabilistic parsing\n",
    "* Does not validate address"
   ]
  },
  {
   "cell_type": "code",
   "execution_count": 4,
   "metadata": {
    "scrolled": true
   },
   "outputs": [
    {
     "name": "stdout",
     "output_type": "stream",
     "text": [
      "usaddress result: \n",
      "\n"
     ]
    },
    {
     "data": {
      "text/plain": [
       "[('5137', 'AddressNumber'),\n",
       " ('Pond', 'StreetName'),\n",
       " ('Crest', 'StreetName'),\n",
       " ('Trail,', 'StreetNamePostType'),\n",
       " ('Fairview,', 'PlaceName'),\n",
       " ('TX', 'StateName'),\n",
       " ('75069', 'ZipCode')]"
      ]
     },
     "execution_count": 4,
     "metadata": {},
     "output_type": "execute_result"
    }
   ],
   "source": [
    "# Returns an array of \n",
    "usaddress_result = usaddress.parse(address)\n",
    "\n",
    "print(\"usaddress result: \\n\")\n",
    "usaddress_result"
   ]
  },
  {
   "cell_type": "markdown",
   "metadata": {},
   "source": [
    "## 3. USPS API\n",
    "\n",
    "The USPS API seems to be the most comprehensive of the three. In addition to parsing the address, the USPS API is the only API from the candidate set that _validates_ the address as well."
   ]
  },
  {
   "cell_type": "markdown",
   "metadata": {},
   "source": [
    "#### Setup"
   ]
  },
  {
   "cell_type": "code",
   "execution_count": 5,
   "metadata": {},
   "outputs": [],
   "source": [
    "required_address_std_keys = ['Address2','Address1','City','State','Zip5','Zip4']\n",
    "campaign_data_table_name = 'campaign_data_drop_'\n",
    "baselines = {\n",
    "    'cost_per_piece':0.51,\n",
    "    'comparison_response_rate_bps':44,\n",
    "    'comparison_cost_per_response':116,\n",
    "    'comparison_cost_per_member':1000\n",
    "}\n",
    "### Type of Responses Table\n",
    "current_sales_status_dict = {\n",
    "    'disqualified':['Declined - Ineligible','Do Not Contact / Deceased'],\n",
    "    'applied':['Declined - Enrollment Cancelled','Application  Received by Agent','Declined - Enrollment Cancelle','Enrollment Denied','Processed by Enrollment','Enrollment Pending',' Declined - Enrollment Can','Application  Received by Agent','Processed by Enrollment','Enrollment Pending','Application  Received by'],\n",
    "    'positive_applied':['Application  Received by Agent','Processed by Enrollment','Enrollment Pending','Application  Received by']\n",
    "    }\n",
    "## Scaling Results\n",
    "point_scaler = 10000"
   ]
  },
  {
   "cell_type": "code",
   "execution_count": 6,
   "metadata": {},
   "outputs": [],
   "source": [
    "COGNITO_PUBLIC_KEY = \"\"\n",
    "PASSAGEIQ_PUBLIC_KEY_URL = \"https://cognito-idp.us-west-2.amazonaws.com/us-west-2_tvhMfFPru/.well-known/jwks.json\"\n",
    "AUDIENCE = \"2o9l4v55jf8dhk3hl6f4c8hvl8\"\n",
    "# decode and verify the token\n",
    "\n",
    "def get_usps_address(table_data,verbose=False):\n",
    "    \"\"\"\n",
    "    function that validates a standard USA address against the USPS dataset\n",
    "    takes in a dictionary with the following key value pair\n",
    "    table_data = {\n",
    "            name = '',\n",
    "            address_1 = '',\n",
    "            address_2 = '',\n",
    "            city = '',\n",
    "            state = '',\n",
    "            zipcode = ''\n",
    "    }\n",
    "    values can be left blank such as address 1 and name\n",
    "    Keep in mind that due to a bug in USPS web API, address_1 and address_2 are switched\n",
    "    so that means that street address should be placed with the address_2 key\n",
    "    and other values such as Apartment values should be set with the address_1 key\n",
    "    returns values in the following dictionary format:\n",
    "    {'AddressValidateResponse': {'Address': {'Address1': 'APT 403', 'Address2': '315 N PRINCE ST', '@ID': '0', 'Zip5': '17603', 'State': 'PA', 'City': 'LANCASTER', 'Zip4': '3033'}}}\n",
    "    \"\"\"\n",
    "    \n",
    "    try:\n",
    "        address_1 = table_data['address_1'].replace(u'\\xa0', u' ').encode('ascii','ignore').decode('UTF-8')\n",
    "    except:\n",
    "        address_1 = str(table_data['address_1'])\n",
    "    \n",
    "    try: \n",
    "        address_2 = table_data['address_2'].replace(u'\\xa0', u' ').encode('ascii','ignore').decode('UTF-8')\n",
    "    except:\n",
    "        address_2 = str(table_data['address_2'])\n",
    "    #print('Table data : ',table_data)\n",
    "    address = Address(\n",
    "        name = '',#table_data['name'],\n",
    "        address_1 = address_1,\n",
    "        address_2 = address_2,\n",
    "        #address_1 = table_data['address_1'].replace(u'\\xa0', u' ').encode('ascii','ignore').decode('UTF-8'),\n",
    "        #address_2 = table_data['address_2'].replace(u'\\xa0', u' ').encode('ascii','ignore').decode('UTF-8'),\n",
    "        city = table_data['city'].replace(u'\\xa0', u' ').encode('ascii','ignore').decode('UTF-8'),\n",
    "        state = table_data['state'].replace(u'\\xa0', u' ').encode('ascii','ignore').decode('UTF-8'),\n",
    "        zipcode = table_data['zipcode'].replace(u'\\xa0', u' ').encode('ascii','ignore').decode('UTF-8')\n",
    "    )\n",
    "    sys.stdout.flush()\n",
    "    usps = USPSApi('YOUR KEY HERE', test=True)\n",
    "    \n",
    "    try:\n",
    "        validation = usps.validate_address(address)\n",
    "        result = validation.result['AddressValidateResponse']\n",
    "        print(\"RESULT! \", result, '\\n')\n",
    "\n",
    "        ## Standardize Result\n",
    "        out_res = result['Address']\n",
    "        keys_from_result = out_res.keys()\n",
    "        keys_to_fill = list(set(required_address_std_keys).difference(set(keys_from_result)))\n",
    "        for keys in keys_to_fill:\n",
    "            out_res[keys] = ''\n",
    "    except:\n",
    "        out_res = None\n",
    "    return out_res"
   ]
  },
  {
   "cell_type": "code",
   "execution_count": 7,
   "metadata": {},
   "outputs": [],
   "source": [
    "table_data = {\n",
    "        'name' : '',\n",
    "        'address_1' : '5137 Pond Crest',\n",
    "        'address_2' : '',\n",
    "        'city' : 'Fairview',\n",
    "        'state' : 'TX',\n",
    "        'zipcode' : '75069'\n",
    "}"
   ]
  },
  {
   "cell_type": "code",
   "execution_count": 8,
   "metadata": {},
   "outputs": [
    {
     "name": "stdout",
     "output_type": "stream",
     "text": [
      "RESULT!  {'Address': {'@ID': '0', 'Address1': '-', 'Address2': '5137 POND CREST TRL', 'City': 'FAIRVIEW', 'State': 'TX', 'Zip5': '75069', 'Zip4': '6854'}} \n",
      "\n",
      "USPS result: \n",
      "\n"
     ]
    },
    {
     "data": {
      "text/plain": [
       "{'@ID': '0',\n",
       " 'Address1': '-',\n",
       " 'Address2': '5137 POND CREST TRL',\n",
       " 'City': 'FAIRVIEW',\n",
       " 'State': 'TX',\n",
       " 'Zip5': '75069',\n",
       " 'Zip4': '6854'}"
      ]
     },
     "execution_count": 8,
     "metadata": {},
     "output_type": "execute_result"
    }
   ],
   "source": [
    "usps_result = get_usps_address(table_data,verbose=False)\n",
    "print(\"USPS result: \\n\")\n",
    "usps_result"
   ]
  },
  {
   "cell_type": "markdown",
   "metadata": {},
   "source": [
    "# Conclusion:\n",
    "\n",
    "In conclusion, after testing the usaddress, usaddress-scourgify, and usps APIs, I've found the usps API to be the most comprehensive. Not only is it backed and supported by the USPS with releases as recent as 4/24/19, but it was also the only API to allow for address validation rather than simple parsing.\n",
    "\n",
    "The usaddress api is interesting in that it using NLP to parse the address, but returns a less than desirable output (an array of tuples). \n",
    "\n",
    "The usaddress-scourgify API builds upon the usaddress API by returning a more easily accessible output, though the documentation does not mention the use of NLP."
   ]
  }
 ],
 "metadata": {
  "kernelspec": {
   "display_name": "Python 3",
   "language": "python",
   "name": "python3"
  },
  "language_info": {
   "codemirror_mode": {
    "name": "ipython",
    "version": 3
   },
   "file_extension": ".py",
   "mimetype": "text/x-python",
   "name": "python",
   "nbconvert_exporter": "python",
   "pygments_lexer": "ipython3",
   "version": "3.7.3"
  }
 },
 "nbformat": 4,
 "nbformat_minor": 2
}
