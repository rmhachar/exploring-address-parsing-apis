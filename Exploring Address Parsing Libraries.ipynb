{
 "cells": [
  {
   "cell_type": "markdown",
   "metadata": {},
   "source": [
    "# Exploring Address Parsing APIs"
   ]
  },
  {
   "cell_type": "markdown",
   "metadata": {},
   "source": [
    "## 0. Setup\n",
    "\n",
    "I considered the following APIs:\n",
    "* scourgify\n",
    "* usaddress\n",
    "* postal_address (poor documentation)\n",
    "* address (out of date- api uses prints intended for Python 2)\n",
    "\n",
    "After looking at docs and testing the implementation of each library, I narrowed down the list to two:\n",
    "* scourgify\n",
    "* usaddress"
   ]
  },
  {
   "cell_type": "markdown",
   "metadata": {},
   "source": [
    "### Imports"
   ]
  },
  {
   "cell_type": "code",
   "execution_count": 1,
   "metadata": {},
   "outputs": [],
   "source": [
    "import usaddress # usaddress\n",
    "import scourgify # usaddress-scourgify"
   ]
  },
  {
   "cell_type": "markdown",
   "metadata": {},
   "source": [
    "### Set Address"
   ]
  },
  {
   "cell_type": "code",
   "execution_count": 2,
   "metadata": {},
   "outputs": [],
   "source": [
    "address = '5137 Pond Crest Trail, Fairview, TX 75069'"
   ]
  },
  {
   "cell_type": "markdown",
   "metadata": {},
   "source": [
    "## 1. Scourgify\n",
    "\n",
    "Follows RESO guidelines and USPS pub 28. \n",
    "\n",
    "#### Notes:\n",
    "* Scourgify does not attempt to validate an address"
   ]
  },
  {
   "cell_type": "code",
   "execution_count": 3,
   "metadata": {},
   "outputs": [
    {
     "name": "stdout",
     "output_type": "stream",
     "text": [
      "scourgify result: \n",
      "\n"
     ]
    },
    {
     "data": {
      "text/plain": [
       "{'address_line_1': '5137 POND CREST TRL',\n",
       " 'address_line_2': None,\n",
       " 'city': 'FAIRVIEW',\n",
       " 'state': 'TX',\n",
       " 'postal_code': '75069'}"
      ]
     },
     "execution_count": 3,
     "metadata": {},
     "output_type": "execute_result"
    }
   ],
   "source": [
    "# Returns a dictionary of \"normalized\" address data, but does not validate\n",
    "scourgify_result = scourgify.normalize_address_record(address)\n",
    "\n",
    "print(\"scourgify result: \\n\")\n",
    "scourgify_result"
   ]
  },
  {
   "cell_type": "markdown",
   "metadata": {},
   "source": [
    "## 2. USAddress\n",
    "\n",
    "usaddress is a Python library for parsing unstructured address strings into address components, using advanced NLP methods.\n",
    "\n",
    "#### Notes: \n",
    "* Probabilistic parsing\n",
    "* Does not validate address"
   ]
  },
  {
   "cell_type": "code",
   "execution_count": 4,
   "metadata": {},
   "outputs": [
    {
     "name": "stdout",
     "output_type": "stream",
     "text": [
      "usaddress result: \n",
      "\n"
     ]
    },
    {
     "data": {
      "text/plain": [
       "[('5137', 'AddressNumber'),\n",
       " ('Pond', 'StreetName'),\n",
       " ('Crest', 'StreetName'),\n",
       " ('Trail,', 'StreetNamePostType'),\n",
       " ('Fairview,', 'PlaceName'),\n",
       " ('TX', 'StateName'),\n",
       " ('75069', 'ZipCode')]"
      ]
     },
     "execution_count": 4,
     "metadata": {},
     "output_type": "execute_result"
    }
   ],
   "source": [
    "# Returns an array of \n",
    "usaddress_result = usaddress.parse(address)\n",
    "\n",
    "print(\"usaddress result: \\n\")\n",
    "usaddress_result"
   ]
  }
 ],
 "metadata": {
  "kernelspec": {
   "display_name": "Python 3",
   "language": "python",
   "name": "python3"
  },
  "language_info": {
   "codemirror_mode": {
    "name": "ipython",
    "version": 3
   },
   "file_extension": ".py",
   "mimetype": "text/x-python",
   "name": "python",
   "nbconvert_exporter": "python",
   "pygments_lexer": "ipython3",
   "version": "3.7.3"
  }
 },
 "nbformat": 4,
 "nbformat_minor": 2
}
